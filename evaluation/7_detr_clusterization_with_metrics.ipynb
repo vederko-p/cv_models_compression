{
  "nbformat": 4,
  "nbformat_minor": 0,
  "metadata": {
    "colab": {
      "provenance": [],
      "gpuType": "T4"
    },
    "kernelspec": {
      "display_name": "Python 3",
      "name": "python3"
    },
    "language_info": {
      "name": "python"
    },
    "widgets": {
      "application/vnd.jupyter.widget-state+json": {
        "c1f6eab8947d4e4f99c6c56120861524": {
          "model_module": "@jupyter-widgets/controls",
          "model_name": "HBoxModel",
          "model_module_version": "1.5.0",
          "state": {
            "_dom_classes": [],
            "_model_module": "@jupyter-widgets/controls",
            "_model_module_version": "1.5.0",
            "_model_name": "HBoxModel",
            "_view_count": null,
            "_view_module": "@jupyter-widgets/controls",
            "_view_module_version": "1.5.0",
            "_view_name": "HBoxView",
            "box_style": "",
            "children": [
              "IPY_MODEL_ed997c78d2de42268e815219e5fd833d",
              "IPY_MODEL_209488ef05dc450581013ca7d20a822f",
              "IPY_MODEL_98fce7610115418eb0d386e098487f82"
            ],
            "layout": "IPY_MODEL_7206b9af48554956bd0e24d77aa1bffa"
          }
        },
        "ed997c78d2de42268e815219e5fd833d": {
          "model_module": "@jupyter-widgets/controls",
          "model_name": "HTMLModel",
          "model_module_version": "1.5.0",
          "state": {
            "_dom_classes": [],
            "_model_module": "@jupyter-widgets/controls",
            "_model_module_version": "1.5.0",
            "_model_name": "HTMLModel",
            "_view_count": null,
            "_view_module": "@jupyter-widgets/controls",
            "_view_module_version": "1.5.0",
            "_view_name": "HTMLView",
            "description": "",
            "description_tooltip": null,
            "layout": "IPY_MODEL_a33ab12637ef46868c5840133fdfb1ac",
            "placeholder": "​",
            "style": "IPY_MODEL_9a83c3ee39f949b2b5a0a36069453700",
            "value": "100%"
          }
        },
        "209488ef05dc450581013ca7d20a822f": {
          "model_module": "@jupyter-widgets/controls",
          "model_name": "FloatProgressModel",
          "model_module_version": "1.5.0",
          "state": {
            "_dom_classes": [],
            "_model_module": "@jupyter-widgets/controls",
            "_model_module_version": "1.5.0",
            "_model_name": "FloatProgressModel",
            "_view_count": null,
            "_view_module": "@jupyter-widgets/controls",
            "_view_module_version": "1.5.0",
            "_view_name": "ProgressView",
            "bar_style": "success",
            "description": "",
            "description_tooltip": null,
            "layout": "IPY_MODEL_330ff41bb7ce4cf29155f74f187632fe",
            "max": 5823,
            "min": 0,
            "orientation": "horizontal",
            "style": "IPY_MODEL_d1b70ede3e4e4bfb9c7ef127f4ef4825",
            "value": 5823
          }
        },
        "98fce7610115418eb0d386e098487f82": {
          "model_module": "@jupyter-widgets/controls",
          "model_name": "HTMLModel",
          "model_module_version": "1.5.0",
          "state": {
            "_dom_classes": [],
            "_model_module": "@jupyter-widgets/controls",
            "_model_module_version": "1.5.0",
            "_model_name": "HTMLModel",
            "_view_count": null,
            "_view_module": "@jupyter-widgets/controls",
            "_view_module_version": "1.5.0",
            "_view_name": "HTMLView",
            "description": "",
            "description_tooltip": null,
            "layout": "IPY_MODEL_cdb4bf3464924436ba5f4d76e6ca04c3",
            "placeholder": "​",
            "style": "IPY_MODEL_b6243ed31cd2426aa6be7d07cda7b86d",
            "value": " 5823/5823 [14:15&lt;00:00,  7.95it/s]"
          }
        },
        "7206b9af48554956bd0e24d77aa1bffa": {
          "model_module": "@jupyter-widgets/base",
          "model_name": "LayoutModel",
          "model_module_version": "1.2.0",
          "state": {
            "_model_module": "@jupyter-widgets/base",
            "_model_module_version": "1.2.0",
            "_model_name": "LayoutModel",
            "_view_count": null,
            "_view_module": "@jupyter-widgets/base",
            "_view_module_version": "1.2.0",
            "_view_name": "LayoutView",
            "align_content": null,
            "align_items": null,
            "align_self": null,
            "border": null,
            "bottom": null,
            "display": null,
            "flex": null,
            "flex_flow": null,
            "grid_area": null,
            "grid_auto_columns": null,
            "grid_auto_flow": null,
            "grid_auto_rows": null,
            "grid_column": null,
            "grid_gap": null,
            "grid_row": null,
            "grid_template_areas": null,
            "grid_template_columns": null,
            "grid_template_rows": null,
            "height": null,
            "justify_content": null,
            "justify_items": null,
            "left": null,
            "margin": null,
            "max_height": null,
            "max_width": null,
            "min_height": null,
            "min_width": null,
            "object_fit": null,
            "object_position": null,
            "order": null,
            "overflow": null,
            "overflow_x": null,
            "overflow_y": null,
            "padding": null,
            "right": null,
            "top": null,
            "visibility": null,
            "width": null
          }
        },
        "a33ab12637ef46868c5840133fdfb1ac": {
          "model_module": "@jupyter-widgets/base",
          "model_name": "LayoutModel",
          "model_module_version": "1.2.0",
          "state": {
            "_model_module": "@jupyter-widgets/base",
            "_model_module_version": "1.2.0",
            "_model_name": "LayoutModel",
            "_view_count": null,
            "_view_module": "@jupyter-widgets/base",
            "_view_module_version": "1.2.0",
            "_view_name": "LayoutView",
            "align_content": null,
            "align_items": null,
            "align_self": null,
            "border": null,
            "bottom": null,
            "display": null,
            "flex": null,
            "flex_flow": null,
            "grid_area": null,
            "grid_auto_columns": null,
            "grid_auto_flow": null,
            "grid_auto_rows": null,
            "grid_column": null,
            "grid_gap": null,
            "grid_row": null,
            "grid_template_areas": null,
            "grid_template_columns": null,
            "grid_template_rows": null,
            "height": null,
            "justify_content": null,
            "justify_items": null,
            "left": null,
            "margin": null,
            "max_height": null,
            "max_width": null,
            "min_height": null,
            "min_width": null,
            "object_fit": null,
            "object_position": null,
            "order": null,
            "overflow": null,
            "overflow_x": null,
            "overflow_y": null,
            "padding": null,
            "right": null,
            "top": null,
            "visibility": null,
            "width": null
          }
        },
        "9a83c3ee39f949b2b5a0a36069453700": {
          "model_module": "@jupyter-widgets/controls",
          "model_name": "DescriptionStyleModel",
          "model_module_version": "1.5.0",
          "state": {
            "_model_module": "@jupyter-widgets/controls",
            "_model_module_version": "1.5.0",
            "_model_name": "DescriptionStyleModel",
            "_view_count": null,
            "_view_module": "@jupyter-widgets/base",
            "_view_module_version": "1.2.0",
            "_view_name": "StyleView",
            "description_width": ""
          }
        },
        "330ff41bb7ce4cf29155f74f187632fe": {
          "model_module": "@jupyter-widgets/base",
          "model_name": "LayoutModel",
          "model_module_version": "1.2.0",
          "state": {
            "_model_module": "@jupyter-widgets/base",
            "_model_module_version": "1.2.0",
            "_model_name": "LayoutModel",
            "_view_count": null,
            "_view_module": "@jupyter-widgets/base",
            "_view_module_version": "1.2.0",
            "_view_name": "LayoutView",
            "align_content": null,
            "align_items": null,
            "align_self": null,
            "border": null,
            "bottom": null,
            "display": null,
            "flex": null,
            "flex_flow": null,
            "grid_area": null,
            "grid_auto_columns": null,
            "grid_auto_flow": null,
            "grid_auto_rows": null,
            "grid_column": null,
            "grid_gap": null,
            "grid_row": null,
            "grid_template_areas": null,
            "grid_template_columns": null,
            "grid_template_rows": null,
            "height": null,
            "justify_content": null,
            "justify_items": null,
            "left": null,
            "margin": null,
            "max_height": null,
            "max_width": null,
            "min_height": null,
            "min_width": null,
            "object_fit": null,
            "object_position": null,
            "order": null,
            "overflow": null,
            "overflow_x": null,
            "overflow_y": null,
            "padding": null,
            "right": null,
            "top": null,
            "visibility": null,
            "width": null
          }
        },
        "d1b70ede3e4e4bfb9c7ef127f4ef4825": {
          "model_module": "@jupyter-widgets/controls",
          "model_name": "ProgressStyleModel",
          "model_module_version": "1.5.0",
          "state": {
            "_model_module": "@jupyter-widgets/controls",
            "_model_module_version": "1.5.0",
            "_model_name": "ProgressStyleModel",
            "_view_count": null,
            "_view_module": "@jupyter-widgets/base",
            "_view_module_version": "1.2.0",
            "_view_name": "StyleView",
            "bar_color": null,
            "description_width": ""
          }
        },
        "cdb4bf3464924436ba5f4d76e6ca04c3": {
          "model_module": "@jupyter-widgets/base",
          "model_name": "LayoutModel",
          "model_module_version": "1.2.0",
          "state": {
            "_model_module": "@jupyter-widgets/base",
            "_model_module_version": "1.2.0",
            "_model_name": "LayoutModel",
            "_view_count": null,
            "_view_module": "@jupyter-widgets/base",
            "_view_module_version": "1.2.0",
            "_view_name": "LayoutView",
            "align_content": null,
            "align_items": null,
            "align_self": null,
            "border": null,
            "bottom": null,
            "display": null,
            "flex": null,
            "flex_flow": null,
            "grid_area": null,
            "grid_auto_columns": null,
            "grid_auto_flow": null,
            "grid_auto_rows": null,
            "grid_column": null,
            "grid_gap": null,
            "grid_row": null,
            "grid_template_areas": null,
            "grid_template_columns": null,
            "grid_template_rows": null,
            "height": null,
            "justify_content": null,
            "justify_items": null,
            "left": null,
            "margin": null,
            "max_height": null,
            "max_width": null,
            "min_height": null,
            "min_width": null,
            "object_fit": null,
            "object_position": null,
            "order": null,
            "overflow": null,
            "overflow_x": null,
            "overflow_y": null,
            "padding": null,
            "right": null,
            "top": null,
            "visibility": null,
            "width": null
          }
        },
        "b6243ed31cd2426aa6be7d07cda7b86d": {
          "model_module": "@jupyter-widgets/controls",
          "model_name": "DescriptionStyleModel",
          "model_module_version": "1.5.0",
          "state": {
            "_model_module": "@jupyter-widgets/controls",
            "_model_module_version": "1.5.0",
            "_model_name": "DescriptionStyleModel",
            "_view_count": null,
            "_view_module": "@jupyter-widgets/base",
            "_view_module_version": "1.2.0",
            "_view_name": "StyleView",
            "description_width": ""
          }
        },
        "d256c0308af746e08fb59946370d9fd5": {
          "model_module": "@jupyter-widgets/controls",
          "model_name": "HBoxModel",
          "model_module_version": "1.5.0",
          "state": {
            "_dom_classes": [],
            "_model_module": "@jupyter-widgets/controls",
            "_model_module_version": "1.5.0",
            "_model_name": "HBoxModel",
            "_view_count": null,
            "_view_module": "@jupyter-widgets/controls",
            "_view_module_version": "1.5.0",
            "_view_name": "HBoxView",
            "box_style": "",
            "children": [
              "IPY_MODEL_64406ecadd3a400aaee59d4580d50182",
              "IPY_MODEL_70e95fdb1ba84398a76da9d1a7dae726",
              "IPY_MODEL_ed7f6afa400044269a0ac45aab3cdcb7"
            ],
            "layout": "IPY_MODEL_a3943b6d3306473b880e08e475152089"
          }
        },
        "64406ecadd3a400aaee59d4580d50182": {
          "model_module": "@jupyter-widgets/controls",
          "model_name": "HTMLModel",
          "model_module_version": "1.5.0",
          "state": {
            "_dom_classes": [],
            "_model_module": "@jupyter-widgets/controls",
            "_model_module_version": "1.5.0",
            "_model_name": "HTMLModel",
            "_view_count": null,
            "_view_module": "@jupyter-widgets/controls",
            "_view_module_version": "1.5.0",
            "_view_name": "HTMLView",
            "description": "",
            "description_tooltip": null,
            "layout": "IPY_MODEL_bd3e8fe5b07e4e4f9395dbf050ad51e7",
            "placeholder": "​",
            "style": "IPY_MODEL_1004c26a179c495caa8a6f360e47677a",
            "value": "100%"
          }
        },
        "70e95fdb1ba84398a76da9d1a7dae726": {
          "model_module": "@jupyter-widgets/controls",
          "model_name": "FloatProgressModel",
          "model_module_version": "1.5.0",
          "state": {
            "_dom_classes": [],
            "_model_module": "@jupyter-widgets/controls",
            "_model_module_version": "1.5.0",
            "_model_name": "FloatProgressModel",
            "_view_count": null,
            "_view_module": "@jupyter-widgets/controls",
            "_view_module_version": "1.5.0",
            "_view_name": "ProgressView",
            "bar_style": "success",
            "description": "",
            "description_tooltip": null,
            "layout": "IPY_MODEL_102ee285a6f04152b983de4772c3f4ac",
            "max": 5823,
            "min": 0,
            "orientation": "horizontal",
            "style": "IPY_MODEL_b49f8e073269497895e0fc7bc541ad23",
            "value": 5823
          }
        },
        "ed7f6afa400044269a0ac45aab3cdcb7": {
          "model_module": "@jupyter-widgets/controls",
          "model_name": "HTMLModel",
          "model_module_version": "1.5.0",
          "state": {
            "_dom_classes": [],
            "_model_module": "@jupyter-widgets/controls",
            "_model_module_version": "1.5.0",
            "_model_name": "HTMLModel",
            "_view_count": null,
            "_view_module": "@jupyter-widgets/controls",
            "_view_module_version": "1.5.0",
            "_view_name": "HTMLView",
            "description": "",
            "description_tooltip": null,
            "layout": "IPY_MODEL_49e02efa94924cc9a3bc4849ebc07e63",
            "placeholder": "​",
            "style": "IPY_MODEL_fdd601e2ae6041a985c3e1b2049c130c",
            "value": " 5823/5823 [14:28&lt;00:00,  7.73it/s]"
          }
        },
        "a3943b6d3306473b880e08e475152089": {
          "model_module": "@jupyter-widgets/base",
          "model_name": "LayoutModel",
          "model_module_version": "1.2.0",
          "state": {
            "_model_module": "@jupyter-widgets/base",
            "_model_module_version": "1.2.0",
            "_model_name": "LayoutModel",
            "_view_count": null,
            "_view_module": "@jupyter-widgets/base",
            "_view_module_version": "1.2.0",
            "_view_name": "LayoutView",
            "align_content": null,
            "align_items": null,
            "align_self": null,
            "border": null,
            "bottom": null,
            "display": null,
            "flex": null,
            "flex_flow": null,
            "grid_area": null,
            "grid_auto_columns": null,
            "grid_auto_flow": null,
            "grid_auto_rows": null,
            "grid_column": null,
            "grid_gap": null,
            "grid_row": null,
            "grid_template_areas": null,
            "grid_template_columns": null,
            "grid_template_rows": null,
            "height": null,
            "justify_content": null,
            "justify_items": null,
            "left": null,
            "margin": null,
            "max_height": null,
            "max_width": null,
            "min_height": null,
            "min_width": null,
            "object_fit": null,
            "object_position": null,
            "order": null,
            "overflow": null,
            "overflow_x": null,
            "overflow_y": null,
            "padding": null,
            "right": null,
            "top": null,
            "visibility": null,
            "width": null
          }
        },
        "bd3e8fe5b07e4e4f9395dbf050ad51e7": {
          "model_module": "@jupyter-widgets/base",
          "model_name": "LayoutModel",
          "model_module_version": "1.2.0",
          "state": {
            "_model_module": "@jupyter-widgets/base",
            "_model_module_version": "1.2.0",
            "_model_name": "LayoutModel",
            "_view_count": null,
            "_view_module": "@jupyter-widgets/base",
            "_view_module_version": "1.2.0",
            "_view_name": "LayoutView",
            "align_content": null,
            "align_items": null,
            "align_self": null,
            "border": null,
            "bottom": null,
            "display": null,
            "flex": null,
            "flex_flow": null,
            "grid_area": null,
            "grid_auto_columns": null,
            "grid_auto_flow": null,
            "grid_auto_rows": null,
            "grid_column": null,
            "grid_gap": null,
            "grid_row": null,
            "grid_template_areas": null,
            "grid_template_columns": null,
            "grid_template_rows": null,
            "height": null,
            "justify_content": null,
            "justify_items": null,
            "left": null,
            "margin": null,
            "max_height": null,
            "max_width": null,
            "min_height": null,
            "min_width": null,
            "object_fit": null,
            "object_position": null,
            "order": null,
            "overflow": null,
            "overflow_x": null,
            "overflow_y": null,
            "padding": null,
            "right": null,
            "top": null,
            "visibility": null,
            "width": null
          }
        },
        "1004c26a179c495caa8a6f360e47677a": {
          "model_module": "@jupyter-widgets/controls",
          "model_name": "DescriptionStyleModel",
          "model_module_version": "1.5.0",
          "state": {
            "_model_module": "@jupyter-widgets/controls",
            "_model_module_version": "1.5.0",
            "_model_name": "DescriptionStyleModel",
            "_view_count": null,
            "_view_module": "@jupyter-widgets/base",
            "_view_module_version": "1.2.0",
            "_view_name": "StyleView",
            "description_width": ""
          }
        },
        "102ee285a6f04152b983de4772c3f4ac": {
          "model_module": "@jupyter-widgets/base",
          "model_name": "LayoutModel",
          "model_module_version": "1.2.0",
          "state": {
            "_model_module": "@jupyter-widgets/base",
            "_model_module_version": "1.2.0",
            "_model_name": "LayoutModel",
            "_view_count": null,
            "_view_module": "@jupyter-widgets/base",
            "_view_module_version": "1.2.0",
            "_view_name": "LayoutView",
            "align_content": null,
            "align_items": null,
            "align_self": null,
            "border": null,
            "bottom": null,
            "display": null,
            "flex": null,
            "flex_flow": null,
            "grid_area": null,
            "grid_auto_columns": null,
            "grid_auto_flow": null,
            "grid_auto_rows": null,
            "grid_column": null,
            "grid_gap": null,
            "grid_row": null,
            "grid_template_areas": null,
            "grid_template_columns": null,
            "grid_template_rows": null,
            "height": null,
            "justify_content": null,
            "justify_items": null,
            "left": null,
            "margin": null,
            "max_height": null,
            "max_width": null,
            "min_height": null,
            "min_width": null,
            "object_fit": null,
            "object_position": null,
            "order": null,
            "overflow": null,
            "overflow_x": null,
            "overflow_y": null,
            "padding": null,
            "right": null,
            "top": null,
            "visibility": null,
            "width": null
          }
        },
        "b49f8e073269497895e0fc7bc541ad23": {
          "model_module": "@jupyter-widgets/controls",
          "model_name": "ProgressStyleModel",
          "model_module_version": "1.5.0",
          "state": {
            "_model_module": "@jupyter-widgets/controls",
            "_model_module_version": "1.5.0",
            "_model_name": "ProgressStyleModel",
            "_view_count": null,
            "_view_module": "@jupyter-widgets/base",
            "_view_module_version": "1.2.0",
            "_view_name": "StyleView",
            "bar_color": null,
            "description_width": ""
          }
        },
        "49e02efa94924cc9a3bc4849ebc07e63": {
          "model_module": "@jupyter-widgets/base",
          "model_name": "LayoutModel",
          "model_module_version": "1.2.0",
          "state": {
            "_model_module": "@jupyter-widgets/base",
            "_model_module_version": "1.2.0",
            "_model_name": "LayoutModel",
            "_view_count": null,
            "_view_module": "@jupyter-widgets/base",
            "_view_module_version": "1.2.0",
            "_view_name": "LayoutView",
            "align_content": null,
            "align_items": null,
            "align_self": null,
            "border": null,
            "bottom": null,
            "display": null,
            "flex": null,
            "flex_flow": null,
            "grid_area": null,
            "grid_auto_columns": null,
            "grid_auto_flow": null,
            "grid_auto_rows": null,
            "grid_column": null,
            "grid_gap": null,
            "grid_row": null,
            "grid_template_areas": null,
            "grid_template_columns": null,
            "grid_template_rows": null,
            "height": null,
            "justify_content": null,
            "justify_items": null,
            "left": null,
            "margin": null,
            "max_height": null,
            "max_width": null,
            "min_height": null,
            "min_width": null,
            "object_fit": null,
            "object_position": null,
            "order": null,
            "overflow": null,
            "overflow_x": null,
            "overflow_y": null,
            "padding": null,
            "right": null,
            "top": null,
            "visibility": null,
            "width": null
          }
        },
        "fdd601e2ae6041a985c3e1b2049c130c": {
          "model_module": "@jupyter-widgets/controls",
          "model_name": "DescriptionStyleModel",
          "model_module_version": "1.5.0",
          "state": {
            "_model_module": "@jupyter-widgets/controls",
            "_model_module_version": "1.5.0",
            "_model_name": "DescriptionStyleModel",
            "_view_count": null,
            "_view_module": "@jupyter-widgets/base",
            "_view_module_version": "1.2.0",
            "_view_name": "StyleView",
            "description_width": ""
          }
        }
      }
    },
    "accelerator": "GPU"
  },
  "cells": [
    {
      "cell_type": "markdown",
      "metadata": {
        "id": "kiZe9EjLRL-r"
      },
      "source": [
        "## Set up environment"
      ]
    },
    {
      "cell_type": "code",
      "metadata": {
        "colab": {
          "base_uri": "https://localhost:8080/"
        },
        "id": "u2P6C0ezo6gC",
        "outputId": "1ae6fab6-4444-4f7f-bddd-3f76f9e0ca53"
      },
      "source": [
        "!rm -r transformers\n",
        "!git clone -b upload_detr_no_timm https://github.com/nielsrogge/transformers.git\n",
        "!cd transformers\n",
        "!pip install -q ./transformers"
      ],
      "execution_count": 1,
      "outputs": [
        {
          "output_type": "stream",
          "name": "stdout",
          "text": [
            "rm: cannot remove 'transformers': No such file or directory\n",
            "Cloning into 'transformers'...\n",
            "remote: Enumerating objects: 210575, done.\u001b[K\n",
            "remote: Counting objects: 100% (570/570), done.\u001b[K\n",
            "remote: Compressing objects: 100% (202/202), done.\u001b[K\n",
            "remote: Total 210575 (delta 353), reused 476 (delta 290), pack-reused 210005\u001b[K\n",
            "Receiving objects: 100% (210575/210575), 180.59 MiB | 19.05 MiB/s, done.\n",
            "Resolving deltas: 100% (157953/157953), done.\n",
            "  Installing build dependencies ... \u001b[?25l\u001b[?25hdone\n",
            "  Getting requirements to build wheel ... \u001b[?25l\u001b[?25hdone\n",
            "  Preparing metadata (pyproject.toml) ... \u001b[?25l\u001b[?25hdone\n",
            "\u001b[2K     \u001b[90m━━━━━━━━━━━━━━━━━━━━━━━━━━━━━━━━━━━━━━━━\u001b[0m \u001b[32m302.0/302.0 kB\u001b[0m \u001b[31m5.3 MB/s\u001b[0m eta \u001b[36m0:00:00\u001b[0m\n",
            "\u001b[2K     \u001b[90m━━━━━━━━━━━━━━━━━━━━━━━━━━━━━━━━━━━━━━━━\u001b[0m \u001b[32m7.8/7.8 MB\u001b[0m \u001b[31m24.3 MB/s\u001b[0m eta \u001b[36m0:00:00\u001b[0m\n",
            "\u001b[?25h  Building wheel for transformers (pyproject.toml) ... \u001b[?25l\u001b[?25hdone\n"
          ]
        }
      ]
    },
    {
      "cell_type": "code",
      "metadata": {
        "colab": {
          "base_uri": "https://localhost:8080/"
        },
        "id": "zohBiOcjGnzB",
        "outputId": "b2c7db41-4ae1-44c1-8a8b-d994c53621b5"
      },
      "source": [
        "!pip install -q pytorch-lightning"
      ],
      "execution_count": 2,
      "outputs": [
        {
          "output_type": "stream",
          "name": "stdout",
          "text": [
            "\u001b[?25l     \u001b[90m━━━━━━━━━━━━━━━━━━━━━━━━━━━━━━━━━━━━━━━━\u001b[0m \u001b[32m0.0/774.6 kB\u001b[0m \u001b[31m?\u001b[0m eta \u001b[36m-:--:--\u001b[0m\r\u001b[2K     \u001b[91m━━━━━━━━━━━━━━\u001b[0m\u001b[90m╺\u001b[0m\u001b[90m━━━━━━━━━━━━━━━━━━━━━━━━━\u001b[0m \u001b[32m276.5/774.6 kB\u001b[0m \u001b[31m8.0 MB/s\u001b[0m eta \u001b[36m0:00:01\u001b[0m\r\u001b[2K     \u001b[90m━━━━━━━━━━━━━━━━━━━━━━━━━━━━━━━━━━━━━━━━\u001b[0m \u001b[32m774.6/774.6 kB\u001b[0m \u001b[31m14.1 MB/s\u001b[0m eta \u001b[36m0:00:00\u001b[0m\n",
            "\u001b[?25h\u001b[?25l     \u001b[90m━━━━━━━━━━━━━━━━━━━━━━━━━━━━━━━━━━━━━━━━\u001b[0m \u001b[32m0.0/805.2 kB\u001b[0m \u001b[31m?\u001b[0m eta \u001b[36m-:--:--\u001b[0m\r\u001b[2K     \u001b[90m━━━━━━━━━━━━━━━━━━━━━━━━━━━━━━━━━━━━━━━━\u001b[0m \u001b[32m805.2/805.2 kB\u001b[0m \u001b[31m59.0 MB/s\u001b[0m eta \u001b[36m0:00:00\u001b[0m\n",
            "\u001b[?25h"
          ]
        }
      ]
    },
    {
      "cell_type": "code",
      "source": [
        "!pip install timm"
      ],
      "metadata": {
        "colab": {
          "base_uri": "https://localhost:8080/"
        },
        "id": "plZo2gwdBn91",
        "outputId": "26dfcd73-271f-46f9-fc04-bd204f324f1f"
      },
      "execution_count": 3,
      "outputs": [
        {
          "output_type": "stream",
          "name": "stdout",
          "text": [
            "Collecting timm\n",
            "  Downloading timm-0.9.7-py3-none-any.whl (2.2 MB)\n",
            "\u001b[2K     \u001b[90m━━━━━━━━━━━━━━━━━━━━━━━━━━━━━━━━━━━━━━━━\u001b[0m \u001b[32m2.2/2.2 MB\u001b[0m \u001b[31m10.5 MB/s\u001b[0m eta \u001b[36m0:00:00\u001b[0m\n",
            "\u001b[?25hRequirement already satisfied: torch>=1.7 in /usr/local/lib/python3.10/dist-packages (from timm) (2.0.1+cu118)\n",
            "Requirement already satisfied: torchvision in /usr/local/lib/python3.10/dist-packages (from timm) (0.15.2+cu118)\n",
            "Requirement already satisfied: pyyaml in /usr/local/lib/python3.10/dist-packages (from timm) (6.0.1)\n",
            "Requirement already satisfied: huggingface-hub in /usr/local/lib/python3.10/dist-packages (from timm) (0.18.0)\n",
            "Collecting safetensors (from timm)\n",
            "  Downloading safetensors-0.4.0-cp310-cp310-manylinux_2_17_x86_64.manylinux2014_x86_64.whl (1.3 MB)\n",
            "\u001b[2K     \u001b[90m━━━━━━━━━━━━━━━━━━━━━━━━━━━━━━━━━━━━━━━━\u001b[0m \u001b[32m1.3/1.3 MB\u001b[0m \u001b[31m21.5 MB/s\u001b[0m eta \u001b[36m0:00:00\u001b[0m\n",
            "\u001b[?25hRequirement already satisfied: filelock in /usr/local/lib/python3.10/dist-packages (from torch>=1.7->timm) (3.12.4)\n",
            "Requirement already satisfied: typing-extensions in /usr/local/lib/python3.10/dist-packages (from torch>=1.7->timm) (4.5.0)\n",
            "Requirement already satisfied: sympy in /usr/local/lib/python3.10/dist-packages (from torch>=1.7->timm) (1.12)\n",
            "Requirement already satisfied: networkx in /usr/local/lib/python3.10/dist-packages (from torch>=1.7->timm) (3.1)\n",
            "Requirement already satisfied: jinja2 in /usr/local/lib/python3.10/dist-packages (from torch>=1.7->timm) (3.1.2)\n",
            "Requirement already satisfied: triton==2.0.0 in /usr/local/lib/python3.10/dist-packages (from torch>=1.7->timm) (2.0.0)\n",
            "Requirement already satisfied: cmake in /usr/local/lib/python3.10/dist-packages (from triton==2.0.0->torch>=1.7->timm) (3.27.6)\n",
            "Requirement already satisfied: lit in /usr/local/lib/python3.10/dist-packages (from triton==2.0.0->torch>=1.7->timm) (17.0.2)\n",
            "Requirement already satisfied: fsspec>=2023.5.0 in /usr/local/lib/python3.10/dist-packages (from huggingface-hub->timm) (2023.6.0)\n",
            "Requirement already satisfied: requests in /usr/local/lib/python3.10/dist-packages (from huggingface-hub->timm) (2.31.0)\n",
            "Requirement already satisfied: tqdm>=4.42.1 in /usr/local/lib/python3.10/dist-packages (from huggingface-hub->timm) (4.66.1)\n",
            "Requirement already satisfied: packaging>=20.9 in /usr/local/lib/python3.10/dist-packages (from huggingface-hub->timm) (23.2)\n",
            "Requirement already satisfied: numpy in /usr/local/lib/python3.10/dist-packages (from torchvision->timm) (1.23.5)\n",
            "Requirement already satisfied: pillow!=8.3.*,>=5.3.0 in /usr/local/lib/python3.10/dist-packages (from torchvision->timm) (9.4.0)\n",
            "Requirement already satisfied: MarkupSafe>=2.0 in /usr/local/lib/python3.10/dist-packages (from jinja2->torch>=1.7->timm) (2.1.3)\n",
            "Requirement already satisfied: charset-normalizer<4,>=2 in /usr/local/lib/python3.10/dist-packages (from requests->huggingface-hub->timm) (3.3.0)\n",
            "Requirement already satisfied: idna<4,>=2.5 in /usr/local/lib/python3.10/dist-packages (from requests->huggingface-hub->timm) (3.4)\n",
            "Requirement already satisfied: urllib3<3,>=1.21.1 in /usr/local/lib/python3.10/dist-packages (from requests->huggingface-hub->timm) (2.0.6)\n",
            "Requirement already satisfied: certifi>=2017.4.17 in /usr/local/lib/python3.10/dist-packages (from requests->huggingface-hub->timm) (2023.7.22)\n",
            "Requirement already satisfied: mpmath>=0.19 in /usr/local/lib/python3.10/dist-packages (from sympy->torch>=1.7->timm) (1.3.0)\n",
            "Installing collected packages: safetensors, timm\n",
            "Successfully installed safetensors-0.4.0 timm-0.9.7\n"
          ]
        }
      ]
    },
    {
      "cell_type": "code",
      "source": [
        "from transformers import DetrImageProcessor, DetrForObjectDetection\n",
        "import torch\n",
        "\n",
        "preprocessor = DetrImageProcessor.from_pretrained('facebook/detr-resnet-50')\n",
        "model = DetrForObjectDetection.from_pretrained('facebook/detr-resnet-50')\n",
        "\n"
      ],
      "metadata": {
        "colab": {
          "base_uri": "https://localhost:8080/"
        },
        "id": "dRBsPM8W_0Dk",
        "outputId": "e8207edc-3f04-4c0f-8465-222fdb2f4aba"
      },
      "execution_count": 117,
      "outputs": [
        {
          "output_type": "stream",
          "name": "stderr",
          "text": [
            "/usr/local/lib/python3.10/dist-packages/transformers/models/detr/image_processing_detr.py:780: FutureWarning: The `max_size` parameter is deprecated and will be removed in v4.26. Please specify in `size['longest_edge'] instead`.\n",
            "  warnings.warn(\n"
          ]
        }
      ]
    },
    {
      "cell_type": "code",
      "source": [
        "from sklearn.cluster import KMeans\n",
        "from scipy.sparse import csc_matrix, csr_matrix\n",
        "import numpy as np\n",
        "\n",
        "\n",
        "def weight_clustering_kmeans(emodel, bits=5):\n",
        "  device = 'cuda' if torch.cuda.is_available() else 'cpu'\n",
        "  clust_model = emodel\n",
        "  with torch.no_grad():\n",
        "    for name, params in clust_model.backbone.named_parameters():\n",
        "      if 'weight' in name:\n",
        "        weights = params.cpu().numpy()\n",
        "        params_shape = weights.shape\n",
        "        if len(params_shape) == 4:\n",
        "          weights = weights.reshape([params_shape[0] * params_shape[2], params_shape[1] * params_shape[3]])\n",
        "        elif len(params_shape) == 1:\n",
        "          weights = weights.reshape([params_shape[0] // 2, 2])\n",
        "        shape = weights.shape\n",
        "        mat = csr_matrix(weights) if shape[0] < shape[1] else csc_matrix(weights)\n",
        "        min_ = min(mat.data)\n",
        "        max_ = max(mat.data)\n",
        "        space = np.linspace(min_, max_, num=2**bits)\n",
        "        kmeans = KMeans(n_clusters=len(space), init=space.reshape(-1,1), n_init=1)\n",
        "        kmeans.fit(mat.data.reshape(-1,1))\n",
        "        new_weight = kmeans.cluster_centers_[kmeans.labels_]\n",
        "        mat.data = new_weight\n",
        "        params.data = torch.from_numpy(mat.toarray().reshape(params_shape)).to(device)\n",
        "        print(name, ' - clustered!')\n",
        "  return clust_model\n",
        ""
      ],
      "metadata": {
        "id": "R7vdJMz-Af9P"
      },
      "execution_count": 118,
      "outputs": []
    },
    {
      "cell_type": "code",
      "source": [
        "model_kmeans = weight_clustering_kmeans(model.model)"
      ],
      "metadata": {
        "id": "MTIklG1RCcuy",
        "colab": {
          "base_uri": "https://localhost:8080/"
        },
        "outputId": "d15dae6c-1444-4a8e-820d-aa4728044fee"
      },
      "execution_count": 119,
      "outputs": [
        {
          "output_type": "stream",
          "name": "stdout",
          "text": [
            "conv_encoder.model.conv1.weight  - clustered!\n",
            "conv_encoder.model.layer1.0.conv1.weight  - clustered!\n",
            "conv_encoder.model.layer1.0.conv2.weight  - clustered!\n",
            "conv_encoder.model.layer1.0.conv3.weight  - clustered!\n",
            "conv_encoder.model.layer1.0.downsample.0.weight  - clustered!\n",
            "conv_encoder.model.layer1.0.downsample.1.weight  - clustered!\n",
            "conv_encoder.model.layer1.1.conv1.weight  - clustered!\n",
            "conv_encoder.model.layer1.1.conv2.weight  - clustered!\n",
            "conv_encoder.model.layer1.1.conv3.weight  - clustered!\n",
            "conv_encoder.model.layer1.2.conv1.weight  - clustered!\n",
            "conv_encoder.model.layer1.2.conv2.weight  - clustered!\n",
            "conv_encoder.model.layer1.2.conv3.weight  - clustered!\n",
            "conv_encoder.model.layer2.0.conv1.weight  - clustered!\n",
            "conv_encoder.model.layer2.0.conv2.weight  - clustered!\n",
            "conv_encoder.model.layer2.0.conv3.weight  - clustered!\n",
            "conv_encoder.model.layer2.0.downsample.0.weight  - clustered!\n",
            "conv_encoder.model.layer2.0.downsample.1.weight  - clustered!\n",
            "conv_encoder.model.layer2.1.conv1.weight  - clustered!\n",
            "conv_encoder.model.layer2.1.conv2.weight  - clustered!\n",
            "conv_encoder.model.layer2.1.conv3.weight  - clustered!\n",
            "conv_encoder.model.layer2.2.conv1.weight  - clustered!\n",
            "conv_encoder.model.layer2.2.conv2.weight  - clustered!\n",
            "conv_encoder.model.layer2.2.conv3.weight  - clustered!\n",
            "conv_encoder.model.layer2.3.conv1.weight  - clustered!\n",
            "conv_encoder.model.layer2.3.conv2.weight  - clustered!\n",
            "conv_encoder.model.layer2.3.conv3.weight  - clustered!\n",
            "conv_encoder.model.layer3.0.conv1.weight  - clustered!\n",
            "conv_encoder.model.layer3.0.conv2.weight  - clustered!\n",
            "conv_encoder.model.layer3.0.conv3.weight  - clustered!\n",
            "conv_encoder.model.layer3.0.downsample.0.weight  - clustered!\n",
            "conv_encoder.model.layer3.0.downsample.1.weight  - clustered!\n",
            "conv_encoder.model.layer3.1.conv1.weight  - clustered!\n",
            "conv_encoder.model.layer3.1.conv2.weight  - clustered!\n",
            "conv_encoder.model.layer3.1.conv3.weight  - clustered!\n",
            "conv_encoder.model.layer3.2.conv1.weight  - clustered!\n",
            "conv_encoder.model.layer3.2.conv2.weight  - clustered!\n",
            "conv_encoder.model.layer3.2.conv3.weight  - clustered!\n",
            "conv_encoder.model.layer3.3.conv1.weight  - clustered!\n",
            "conv_encoder.model.layer3.3.conv2.weight  - clustered!\n",
            "conv_encoder.model.layer3.3.conv3.weight  - clustered!\n",
            "conv_encoder.model.layer3.4.conv1.weight  - clustered!\n",
            "conv_encoder.model.layer3.4.conv2.weight  - clustered!\n",
            "conv_encoder.model.layer3.4.conv3.weight  - clustered!\n",
            "conv_encoder.model.layer3.5.conv1.weight  - clustered!\n",
            "conv_encoder.model.layer3.5.conv2.weight  - clustered!\n",
            "conv_encoder.model.layer3.5.conv3.weight  - clustered!\n",
            "conv_encoder.model.layer4.0.conv1.weight  - clustered!\n",
            "conv_encoder.model.layer4.0.conv2.weight  - clustered!\n",
            "conv_encoder.model.layer4.0.conv3.weight  - clustered!\n",
            "conv_encoder.model.layer4.0.downsample.0.weight  - clustered!\n",
            "conv_encoder.model.layer4.0.downsample.1.weight  - clustered!\n",
            "conv_encoder.model.layer4.1.conv1.weight  - clustered!\n",
            "conv_encoder.model.layer4.1.conv2.weight  - clustered!\n",
            "conv_encoder.model.layer4.1.conv3.weight  - clustered!\n",
            "conv_encoder.model.layer4.2.conv1.weight  - clustered!\n",
            "conv_encoder.model.layer4.2.conv2.weight  - clustered!\n",
            "conv_encoder.model.layer4.2.conv3.weight  - clustered!\n"
          ]
        }
      ]
    },
    {
      "cell_type": "code",
      "source": [
        "def model_size(emodel):\n",
        "    \"\"\"\n",
        "    Return model size in MB.\n",
        "    \"\"\"\n",
        "    return sum(\n",
        "        p.numel() * p.element_size()\n",
        "        for p in emodel.parameters()\n",
        "    ) / 1024**2\n",
        "\n",
        "print(model_size(model_kmeans))"
      ],
      "metadata": {
        "colab": {
          "base_uri": "https://localhost:8080/"
        },
        "id": "csIPPEmhEWYv",
        "outputId": "55ae32ea-cd97-4ae8-aee5-aec406295c89"
      },
      "execution_count": 121,
      "outputs": [
        {
          "output_type": "stream",
          "name": "stdout",
          "text": [
            "157.837646484375\n"
          ]
        }
      ]
    },
    {
      "cell_type": "code",
      "source": [
        "detr = DetrForObjectDetection.from_pretrained('facebook/detr-resnet-50')"
      ],
      "metadata": {
        "id": "XhgV9-IPGcER"
      },
      "execution_count": 122,
      "outputs": []
    },
    {
      "cell_type": "code",
      "source": [
        "layer1 = next(model_kmeans.backbone.named_parameters())"
      ],
      "metadata": {
        "id": "mWhjD1sZGMgK"
      },
      "execution_count": 123,
      "outputs": []
    },
    {
      "cell_type": "code",
      "source": [
        "detr_layer1 = next(detr.model.backbone.named_parameters())"
      ],
      "metadata": {
        "id": "W-Z15gQHGiSF"
      },
      "execution_count": 124,
      "outputs": []
    },
    {
      "cell_type": "code",
      "source": [
        "detr_layer1[1].data.shape"
      ],
      "metadata": {
        "colab": {
          "base_uri": "https://localhost:8080/"
        },
        "id": "57Z90uNMGpIc",
        "outputId": "be8fa1fe-48b3-41bd-e47b-d45cce4cebee"
      },
      "execution_count": 125,
      "outputs": [
        {
          "output_type": "execute_result",
          "data": {
            "text/plain": [
              "torch.Size([64, 3, 7, 7])"
            ]
          },
          "metadata": {},
          "execution_count": 125
        }
      ]
    },
    {
      "cell_type": "code",
      "source": [
        "layer1[1].data.cpu().numpy().shape"
      ],
      "metadata": {
        "colab": {
          "base_uri": "https://localhost:8080/"
        },
        "id": "GZYgwidKGYDi",
        "outputId": "f8ff6da8-73a9-4d9e-fe9f-918e186f6acb"
      },
      "execution_count": 126,
      "outputs": [
        {
          "output_type": "execute_result",
          "data": {
            "text/plain": [
              "(64, 3, 7, 7)"
            ]
          },
          "metadata": {},
          "execution_count": 126
        }
      ]
    },
    {
      "cell_type": "code",
      "source": [
        "model.model = model_kmeans"
      ],
      "metadata": {
        "id": "ZleX9XtvNaDc"
      },
      "execution_count": 127,
      "outputs": []
    },
    {
      "cell_type": "markdown",
      "metadata": {
        "id": "5aRuAxMTcS84"
      },
      "source": [
        "## Evaluate the model\n"
      ]
    },
    {
      "cell_type": "code",
      "source": [
        "!wget http://host.robots.ox.ac.uk/pascal/VOC/voc2012/VOCtrainval_11-May-2012.tar\n",
        "\n",
        "!tar -xf ./VOCtrainval_11-May-2012.tar\n",
        "\n"
      ],
      "metadata": {
        "id": "8veqzRx2MHNk",
        "colab": {
          "base_uri": "https://localhost:8080/"
        },
        "outputId": "5d6c02f4-79c9-49c1-e21a-23f0a77b6e0c"
      },
      "execution_count": 134,
      "outputs": [
        {
          "output_type": "stream",
          "name": "stdout",
          "text": [
            "--2023-10-15 12:20:32--  http://host.robots.ox.ac.uk/pascal/VOC/voc2012/VOCtrainval_11-May-2012.tar\n",
            "Resolving host.robots.ox.ac.uk (host.robots.ox.ac.uk)... 129.67.94.152\n",
            "Connecting to host.robots.ox.ac.uk (host.robots.ox.ac.uk)|129.67.94.152|:80... connected.\n",
            "HTTP request sent, awaiting response... 200 OK\n",
            "Length: 1999639040 (1.9G) [application/x-tar]\n",
            "Saving to: ‘VOCtrainval_11-May-2012.tar.1’\n",
            "\n",
            "VOCtrainval_11-May- 100%[===================>]   1.86G  26.1MB/s    in 78s     \n",
            "\n",
            "2023-10-15 12:21:50 (24.3 MB/s) - ‘VOCtrainval_11-May-2012.tar.1’ saved [1999639040/1999639040]\n",
            "\n"
          ]
        }
      ]
    },
    {
      "cell_type": "code",
      "source": [
        "import os\n",
        "\n",
        "image_sets_path = './VOCdevkit/VOC2012/ImageSets/Main/'\n",
        "train_path = os.path.join(image_sets_path, 'train.txt')\n",
        "val_path = os.path.join(image_sets_path, 'val.txt')\n",
        "\n",
        "images_path = './VOCdevkit/VOC2012/JPEGImages/'\n",
        "annots_path = './VOCdevkit/VOC2012/Annotations/'"
      ],
      "metadata": {
        "id": "N4OQyuOMOWTD"
      },
      "execution_count": 129,
      "outputs": []
    },
    {
      "cell_type": "code",
      "source": [
        "import utils\n",
        "\n",
        "val_images = utils.read_set(val_path)\n",
        "train_images = utils.read_set(train_path)"
      ],
      "metadata": {
        "id": "bpiwUbC5HaF8"
      },
      "execution_count": 130,
      "outputs": []
    },
    {
      "cell_type": "code",
      "source": [
        "#clustered model metrics\n",
        "\n",
        "results = utils.evaluate_over_voc(images_path,\n",
        "                            annots_path,\n",
        "                            val_images,\n",
        "                            model,\n",
        "                            preprocessor,\n",
        "                            'cuda'\n",
        "                            )"
      ],
      "metadata": {
        "colab": {
          "base_uri": "https://localhost:8080/",
          "height": 49,
          "referenced_widgets": [
            "c1f6eab8947d4e4f99c6c56120861524",
            "ed997c78d2de42268e815219e5fd833d",
            "209488ef05dc450581013ca7d20a822f",
            "98fce7610115418eb0d386e098487f82",
            "7206b9af48554956bd0e24d77aa1bffa",
            "a33ab12637ef46868c5840133fdfb1ac",
            "9a83c3ee39f949b2b5a0a36069453700",
            "330ff41bb7ce4cf29155f74f187632fe",
            "d1b70ede3e4e4bfb9c7ef127f4ef4825",
            "cdb4bf3464924436ba5f4d76e6ca04c3",
            "b6243ed31cd2426aa6be7d07cda7b86d"
          ]
        },
        "id": "ezG6WdT-HaLQ",
        "outputId": "619e3fd6-9e6b-4fc5-8f09-459ffdceaa74"
      },
      "execution_count": 132,
      "outputs": [
        {
          "output_type": "display_data",
          "data": {
            "text/plain": [
              "  0%|          | 0/5823 [00:00<?, ?it/s]"
            ],
            "application/vnd.jupyter.widget-view+json": {
              "version_major": 2,
              "version_minor": 0,
              "model_id": "c1f6eab8947d4e4f99c6c56120861524"
            }
          },
          "metadata": {}
        }
      ]
    },
    {
      "cell_type": "code",
      "source": [
        "results"
      ],
      "metadata": {
        "colab": {
          "base_uri": "https://localhost:8080/"
        },
        "id": "iAWR_79iO_1f",
        "outputId": "e2e55aa8-685a-4e8e-a686-e61bf8242d1b"
      },
      "execution_count": 133,
      "outputs": [
        {
          "output_type": "execute_result",
          "data": {
            "text/plain": [
              "({'map': tensor(0.4856),\n",
              "  'map_50': tensor(0.6441),\n",
              "  'map_75': tensor(0.5257),\n",
              "  'map_small': tensor(0.1635),\n",
              "  'map_medium': tensor(0.3530),\n",
              "  'map_large': tensor(0.5717),\n",
              "  'mar_1': tensor(0.4133),\n",
              "  'mar_10': tensor(0.5443),\n",
              "  'mar_100': tensor(0.5459),\n",
              "  'mar_small': tensor(0.2177),\n",
              "  'mar_medium': tensor(0.4103),\n",
              "  'mar_large': tensor(0.6190),\n",
              "  'map_per_class': tensor(-1.),\n",
              "  'mar_100_per_class': tensor(-1.),\n",
              "  'classes': tensor([ 0,  1,  2,  3,  4,  5,  6,  7,  8,  9, 10, 11, 12, 13, 14, 15, 16, 17,\n",
              "          18, 19], dtype=torch.int32)},\n",
              " 0.078)"
            ]
          },
          "metadata": {},
          "execution_count": 133
        }
      ]
    },
    {
      "cell_type": "code",
      "source": [
        "#detr (non-clustered) model metrics\n",
        "\n",
        "results_detr = utils.evaluate_over_voc(images_path,\n",
        "                            annots_path,\n",
        "                            val_images,\n",
        "                            detr,\n",
        "                            preprocessor,\n",
        "                            'cuda'\n",
        "                            )"
      ],
      "metadata": {
        "id": "n2qifyPbp7Cw",
        "colab": {
          "base_uri": "https://localhost:8080/",
          "height": 49,
          "referenced_widgets": [
            "d256c0308af746e08fb59946370d9fd5",
            "64406ecadd3a400aaee59d4580d50182",
            "70e95fdb1ba84398a76da9d1a7dae726",
            "ed7f6afa400044269a0ac45aab3cdcb7",
            "a3943b6d3306473b880e08e475152089",
            "bd3e8fe5b07e4e4f9395dbf050ad51e7",
            "1004c26a179c495caa8a6f360e47677a",
            "102ee285a6f04152b983de4772c3f4ac",
            "b49f8e073269497895e0fc7bc541ad23",
            "49e02efa94924cc9a3bc4849ebc07e63",
            "fdd601e2ae6041a985c3e1b2049c130c"
          ]
        },
        "outputId": "2cae0985-93e0-4793-95c9-36606e55d6ec"
      },
      "execution_count": 135,
      "outputs": [
        {
          "output_type": "display_data",
          "data": {
            "text/plain": [
              "  0%|          | 0/5823 [00:00<?, ?it/s]"
            ],
            "application/vnd.jupyter.widget-view+json": {
              "version_major": 2,
              "version_minor": 0,
              "model_id": "d256c0308af746e08fb59946370d9fd5"
            }
          },
          "metadata": {}
        }
      ]
    },
    {
      "cell_type": "code",
      "source": [
        "results_detr"
      ],
      "metadata": {
        "id": "PSySzVJ7p7E6",
        "colab": {
          "base_uri": "https://localhost:8080/"
        },
        "outputId": "5780faec-a1eb-43f7-8257-e4ad12882be3"
      },
      "execution_count": 136,
      "outputs": [
        {
          "output_type": "execute_result",
          "data": {
            "text/plain": [
              "({'map': tensor(0.5615),\n",
              "  'map_50': tensor(0.7287),\n",
              "  'map_75': tensor(0.6085),\n",
              "  'map_small': tensor(0.1906),\n",
              "  'map_medium': tensor(0.4113),\n",
              "  'map_large': tensor(0.6619),\n",
              "  'mar_1': tensor(0.4642),\n",
              "  'mar_10': tensor(0.6254),\n",
              "  'mar_100': tensor(0.6279),\n",
              "  'mar_small': tensor(0.2522),\n",
              "  'mar_medium': tensor(0.4812),\n",
              "  'mar_large': tensor(0.7130),\n",
              "  'map_per_class': tensor(-1.),\n",
              "  'mar_100_per_class': tensor(-1.),\n",
              "  'classes': tensor([ 0,  1,  2,  3,  4,  5,  6,  7,  8,  9, 10, 11, 12, 13, 14, 15, 16, 17,\n",
              "          18, 19], dtype=torch.int32)},\n",
              " 0.077)"
            ]
          },
          "metadata": {},
          "execution_count": 136
        }
      ]
    },
    {
      "cell_type": "code",
      "source": [
        "model.save_pretrained('clustered_detr')"
      ],
      "metadata": {
        "id": "girESxbbWTgx"
      },
      "execution_count": 137,
      "outputs": []
    }
  ]
}